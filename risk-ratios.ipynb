{
 "cells": [
  {
   "cell_type": "markdown",
   "metadata": {},
   "source": [
    "# Risk Ratios for Journalists\n",
    "\n",
    "Welcome! This notebook will take you through the basics of understanding and working with risk ratios. A risk ratio is a formula that is useful across a wide variety of analyses, including vaccine effectiveness, pay-to-play meetings with politicians, employment discrimination, and TSA security screening. Although the formula is simple, there are  connections to deep topics like false positive rates, causal inferrence, and the important notion of conditional probability."
   ]
  },
  {
   "cell_type": "code",
   "execution_count": 1,
   "metadata": {},
   "outputs": [],
   "source": [
    "import pandas as pd"
   ]
  },
  {
   "cell_type": "markdown",
   "metadata": {},
   "source": [
    "## Example\n",
    "\n",
    "A risk ratio, also called a relative risk, is the ratio of two probabilities. Each of these probabilities represents something happening to one of two groups, which are sometimes called the \"exposed\" and \"unexposed\" groups. For example, let's consider the probability of lung cancer for female smokers as compared to non-smokers. One [recent study](https://www.ncbi.nlm.nih.gov/pmc/articles/PMC3296911/) reported the following numbers:\n",
    "\n"
   ]
  },
  {
   "cell_type": "code",
   "execution_count": 2,
   "metadata": {},
   "outputs": [
    {
     "data": {
      "text/html": [
       "<div>\n",
       "<style scoped>\n",
       "    .dataframe tbody tr th:only-of-type {\n",
       "        vertical-align: middle;\n",
       "    }\n",
       "\n",
       "    .dataframe tbody tr th {\n",
       "        vertical-align: top;\n",
       "    }\n",
       "\n",
       "    .dataframe thead th {\n",
       "        text-align: right;\n",
       "    }\n",
       "</style>\n",
       "<table border=\"1\" class=\"dataframe\">\n",
       "  <thead>\n",
       "    <tr style=\"text-align: right;\">\n",
       "      <th></th>\n",
       "      <th>no cancer</th>\n",
       "      <th>cancer</th>\n",
       "    </tr>\n",
       "  </thead>\n",
       "  <tbody>\n",
       "    <tr>\n",
       "      <th>smoker</th>\n",
       "      <td>657</td>\n",
       "      <td>485</td>\n",
       "    </tr>\n",
       "    <tr>\n",
       "      <th>nonsmoker</th>\n",
       "      <td>1902</td>\n",
       "      <td>609</td>\n",
       "    </tr>\n",
       "  </tbody>\n",
       "</table>\n",
       "</div>"
      ],
      "text/plain": [
       "           no cancer  cancer\n",
       "smoker           657     485\n",
       "nonsmoker       1902     609"
      ]
     },
     "execution_count": 2,
     "metadata": {},
     "output_type": "execute_result"
    }
   ],
   "source": [
    "smokers = pd.DataFrame({'no cancer':[657,1902],'cancer':[485,609]}, index=['smoker','nonsmoker'])\n",
    "smokers"
   ]
  },
  {
   "cell_type": "markdown",
   "metadata": {},
   "source": [
    "We might naturally be interested in how much more likely a former smoker is to get cancer. There are various ways to express this mathematically, but one natural way is to examine the probability of developing cancer for each of the two groups.\n"
   ]
  },
  {
   "cell_type": "code",
   "execution_count": 3,
   "metadata": {},
   "outputs": [
    {
     "data": {
      "text/plain": [
       "0.4246935201401051"
      ]
     },
     "execution_count": 3,
     "metadata": {},
     "output_type": "execute_result"
    }
   ],
   "source": [
    "p_cancer_given_smoker = smokers['cancer']['smoker'] / (smokers['cancer']['smoker'] + smokers['no cancer']['smoker'])\n",
    "p_cancer_given_smoker"
   ]
  },
  {
   "cell_type": "code",
   "execution_count": 4,
   "metadata": {},
   "outputs": [
    {
     "data": {
      "text/plain": [
       "0.24253285543608125"
      ]
     },
     "execution_count": 4,
     "metadata": {},
     "output_type": "execute_result"
    }
   ],
   "source": [
    "p_cancer_given_nonsmoker = smokers['cancer']['nonsmoker'] / (smokers['cancer']['nonsmoker'] + smokers['no cancer']['nonsmoker'])\n",
    "p_cancer_given_nonsmoker"
   ]
  },
  {
   "cell_type": "markdown",
   "metadata": {},
   "source": [
    "All we are doing here is calculating the percentage of smokers and non-smokers who got cancer, which is why we divide by the total number of smokers/non-smokers in the formulas above. We're using the notation `p_cancer_given_smoker` to mean \"the probability of cancer given that someone is a smoker.\" This is the language of *conditional probability*, a key concept which we'll come back to.\n",
    "\n",
    "From this, we can see that smokers have about a 42% of developing lung cancer, whereas non-smokers have a 24% chance. Clearly smoking is associated more strongly with cancer, but how should we quantify this? We might want to have a single number for a variety of reasons, such as to compare the effect of different risk factors -- is smoking more or less dangerous than never exercising? But it's also useful to have one number to summarize the risk, or rather, the *change in risk*, since in this sample there's a 24% chance of developing cancer even if you're a non-smoker.\n",
    "\n",
    "The simplest way to do this would be to subtract the two probabilities:"
   ]
  },
  {
   "cell_type": "code",
   "execution_count": 5,
   "metadata": {},
   "outputs": [
    {
     "data": {
      "text/plain": [
       "0.18216066470402384"
      ]
     },
     "execution_count": 5,
     "metadata": {},
     "output_type": "execute_result"
    }
   ],
   "source": [
    "p_cancer_given_smoker - p_cancer_given_nonsmoker"
   ]
  },
  {
   "cell_type": "markdown",
   "metadata": {},
   "source": [
    "This is a difference of probabilities, a number known as a *risk difference*. It's less commonly used, in part because a small risk difference can hide a big effect when an outcome is rare. If only 1% of the non-smokers in our example developed cancer while 5% did, then the risk difference would be 4% even though smokers are \"five times as likely\" to develop cancer. The phrase \"times as likely\" suggests a multiplication, and at last we come to the risk ratio:"
   ]
  },
  {
   "cell_type": "code",
   "execution_count": 6,
   "metadata": {},
   "outputs": [
    {
     "data": {
      "text/plain": [
       "1.7510762382131426"
      ]
     },
     "execution_count": 6,
     "metadata": {},
     "output_type": "execute_result"
    }
   ],
   "source": [
    "p_cancer_given_smoker / p_cancer_given_nonsmoker"
   ]
  },
  {
   "cell_type": "markdown",
   "metadata": {},
   "source": [
    "We would say that smokers are \"1.75 times as likely\" to develop cancer than non-smokers."
   ]
  },
  {
   "cell_type": "markdown",
   "metadata": {},
   "source": [
    "## Definition\n",
    "\n",
    "Given two groups and two outcomes, we can place these four numbers in a table like this:\n",
    "\n",
    "| Group | Positive | Negative |\n",
    "| - | - | - |\n",
    "| Exposed | a | b |\n",
    "| Unexposed | c | d |\n",
    "\n",
    "Then the *risk ratio* is defined as `(a/(a+b)) / (c/(c+d))`. This is also sometimes called the *relative risk*.\n",
    "\n",
    "Note that there is a closely related quantity called the *odds ratio* which is calculated as ratio of odds instead of a ratio of probabilities, that is `(a/b) / (c/d)`. Generally this is less used than the risk ratio but has advantages in [certain circumstances](https://www.ncbi.nlm.nih.gov/pmc/articles/PMC4640017/). "
   ]
  },
  {
   "cell_type": "markdown",
   "metadata": {},
   "source": [
    "# Exercise: COVID vaccine risk ratio\n",
    "\n",
    "Here's a [paper](https://www.nejm.org/doi/full/10.1056/nejmoa2035389) which reports on the phase 3 clinical trials of the Moderna vaccine. What is the risk ratio that describes the effectiveness of this vaccine? You will need to read the paper to find the four values a,b,c,d as above."
   ]
  },
  {
   "cell_type": "code",
   "execution_count": 7,
   "metadata": {},
   "outputs": [],
   "source": [
    "a = 11 # number of people who DID get the vaccine and DID get COVID\n",
    "b = 15210-11 # number of people who DID get the vaccine and DID NOT get COVID\n",
    "c = 185 # number of people who DID NOT get the vaccine and DID get COVID\n",
    "d = 15210-185 # number of people who DID NOT get the vaccine and DID NOT get COVID"
   ]
  },
  {
   "cell_type": "code",
   "execution_count": 8,
   "metadata": {},
   "outputs": [
    {
     "data": {
      "text/plain": [
       "0.05945945945945945"
      ]
     },
     "execution_count": 8,
     "metadata": {},
     "output_type": "execute_result"
    }
   ],
   "source": [
    "# Then calculate the risk ratio itself\n",
    "(a/(a+b)) / (c/(c+d))"
   ]
  },
  {
   "cell_type": "markdown",
   "metadata": {},
   "source": [
    "What does it mean that this number is smaller than 1?\n",
    "\n"
   ]
  },
  {
   "cell_type": "markdown",
   "metadata": {},
   "source": [
    "A much lower percentage of people got COVID after vaccination"
   ]
  },
  {
   "cell_type": "markdown",
   "metadata": {},
   "source": [
    "This paper says that the vaccine \"showed 94.1% efficacy at preventing Covid-19 illness.\" Where does this number come from?"
   ]
  },
  {
   "cell_type": "markdown",
   "metadata": {},
   "source": [
    "It's one minus the risk ratio, expressed as a percentage (times 100)."
   ]
  },
  {
   "cell_type": "markdown",
   "metadata": {},
   "source": [
    "# Risk ratio vs. risk difference"
   ]
  },
  {
   "cell_type": "markdown",
   "metadata": {},
   "source": [
    "In general, there are several different ways to report vaccine efficacy, which carry similar but not identical information. Risk ratios are the most common, but you may be interested in [arguments](https://www.ncbi.nlm.nih.gov/pmc/articles/PMC7996517/) for using other quantitative measures of risk.\n",
    "\n",
    "Picture\n",
    "\n",
    "lese likely / more likely = risk difference / absolute risk reduction\n",
    "times as likely = "
   ]
  },
  {
   "cell_type": "markdown",
   "metadata": {},
   "source": [
    "# Writing about risk"
   ]
  },
  {
   "cell_type": "markdown",
   "metadata": {},
   "source": [
    "# Conditional Probability\n",
    "Pictures"
   ]
  },
  {
   "cell_type": "markdown",
   "metadata": {},
   "source": [
    "# VAERS example\n",
    "\n",
    "The same logic of missing one half of the 2x2 table explains why the Vaccine Adverse Event Reporting System (VAERS) database cannot be used to calculate the deaths caused by the COVID vaccine. Actually, there are [all sorts of problems](https://www.nebraskamed.com/COVID/does-vaers-list-deaths-caused-by-covid-19-vaccines) with attempting to count vaccine-related deaths from this database. It's an open database and only collects reports of \"adverse reactions\"*after* vaccinations -- no attempt is made to determine causality at this stage. But if you understand risk ratios, you'll also understand immediately that it's not possible to determine if vaccines increase the risk of death from this sort of data.\n"
   ]
  },
  {
   "cell_type": "markdown",
   "metadata": {},
   "source": [
    "# Exercise: Clinton Foundation Meetings\n",
    "\n",
    "Oen great advantage of getting comfortable with risk ratios is to be able to recognize when something should really be a risk ratio, but isn't. This is often the case when trying to detect quid-pro-quo corruption from data only. \n",
    "\n",
    "In summer 2016 the [AP reported](https://apnews.com/article/82df550e1ec646098b434f7d5771f625) that \"at least 85 of 154 people from private interests who met or had phone conversations scheduled with Clinton while she led the State Department donated to her family charity or pledged commitments to its international programs.\" Is this evidence that donating to the Clinton Foundation would get you a meeting with the Secretary of State?\n",
    "\n",
    "In risk ratio terms, this would mean that the \"risk\" (probability) of getting a meeting for people who donated is higher than for those who did not donate, i.e. the risk ratio is greater than one. Let's try to calculate it."
   ]
  },
  {
   "cell_type": "code",
   "execution_count": 9,
   "metadata": {},
   "outputs": [
    {
     "ename": "SyntaxError",
     "evalue": "invalid syntax (<ipython-input-9-637cf19d54e2>, line 2)",
     "output_type": "error",
     "traceback": [
      "\u001b[0;36m  File \u001b[0;32m\"<ipython-input-9-637cf19d54e2>\"\u001b[0;36m, line \u001b[0;32m2\u001b[0m\n\u001b[0;31m    b = ??? # number of people who DID donate and DID NOT get a meeting\u001b[0m\n\u001b[0m        ^\u001b[0m\n\u001b[0;31mSyntaxError\u001b[0m\u001b[0;31m:\u001b[0m invalid syntax\n"
     ]
    }
   ],
   "source": [
    "a = 85 # number of people who DID donate and DID get a meeting\n",
    "b = ??? # number of people who DID donate and DID NOT get a meeting\n",
    "c = 154-85 # number of people who DID NOT donate and DID get a meeting\n",
    "d = ??? # number of people who DID NOT donate and DID NOT get a meeting"
   ]
  },
  {
   "cell_type": "markdown",
   "metadata": {},
   "source": [
    "It turns out we cannot calculate the risk ratio. The basic problem is that we only have information on people who met with Clinton, not people who wanted to meet with her but did not, regardless of whether they also donated to the Clinton foundation. The fact that only two numbers are reported in the story should be a clue that we can't calculate the advantage of donating -- we need four numbers to do that. (We could also calculate the advantage with two probabilities: the probability of getting a meeting if you donated, and the probability of getting a meeting if you did not.)\n",
    "\n",
    "But surely there's still something suspicious here if so many of the meetings she took were with donors, right? It depends! In particular, it depends on what you think the missing numbers might be. What if there were a thousand peopple who wanted a meeting and didn't get one, and 600 of them donated?"
   ]
  },
  {
   "cell_type": "code",
   "execution_count": null,
   "metadata": {},
   "outputs": [],
   "source": [
    "a = 85 # number of people who DID donate and DID get a meeting\n",
    "b = 600 # number of people who DID donate and DID NOT get a meeting\n",
    "c = 154-85 # number of people who DID NOT donate and DID get a meeting\n",
    "d = 400 # number of people who DID NOT donate and DID NOT get a meeting"
   ]
  },
  {
   "cell_type": "code",
   "execution_count": null,
   "metadata": {},
   "outputs": [],
   "source": [
    "# risk ratio calculation\n",
    "(a/(a+b)) / (c/(c+d))"
   ]
  },
  {
   "cell_type": "markdown",
   "metadata": {},
   "source": [
    "In this case the risk ratio is smaller than one, meaning that donation actually made your chances worse -- or more precisely, correlated with a lower probability of getting a meeting. We'll talk about causation a little later."
   ]
  },
  {
   "cell_type": "markdown",
   "metadata": {},
   "source": [
    "# Provincetown Example"
   ]
  },
  {
   "cell_type": "markdown",
   "metadata": {},
   "source": [
    "# Relationship to Causality"
   ]
  },
  {
   "cell_type": "markdown",
   "metadata": {},
   "source": [
    "# Coaches\n",
    "\n",
    "Direct analysis\n",
    "\n",
    "Suggest Logistic Regression"
   ]
  },
  {
   "cell_type": "markdown",
   "metadata": {},
   "source": [
    "# Odds Ratio\n",
    "Probability vs. Odds\n",
    "\n",
    "Probability to odds conversion\n",
    "\n",
    "Odds ratio\n",
    "\n",
    "Probability to Odds ratio conversion\n"
   ]
  },
  {
   "cell_type": "markdown",
   "metadata": {},
   "source": [
    "# TSA Screening Example\n",
    "Or cancer screening example?\n",
    "\n",
    "If the test is positive, what is the probabiity this person is actually carrying a terrorist?\n",
    "\n",
    "Pictures to explain the problem, with conditional probability notation"
   ]
  },
  {
   "cell_type": "markdown",
   "metadata": {},
   "source": [
    "# Bayes Theorem and The Base Rate Fallacy\n",
    "\n",
    "Bayes Theorem\n",
    "Uee it to solve the TSA example\n",
    "Graph of P(terrorist|positive) vs P(positive|terrorist)\n"
   ]
  },
  {
   "cell_type": "markdown",
   "metadata": {},
   "source": [
    "# What percentage of people with COVID are vaccinated?\n",
    "\n",
    "real data from somewhere"
   ]
  }
 ],
 "metadata": {
  "kernelspec": {
   "display_name": "Python 3",
   "language": "python",
   "name": "python3"
  },
  "language_info": {
   "codemirror_mode": {
    "name": "ipython",
    "version": 3
   },
   "file_extension": ".py",
   "mimetype": "text/x-python",
   "name": "python",
   "nbconvert_exporter": "python",
   "pygments_lexer": "ipython3",
   "version": "3.8.5"
  }
 },
 "nbformat": 4,
 "nbformat_minor": 4
}
